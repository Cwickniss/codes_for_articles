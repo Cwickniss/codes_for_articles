{
  "nbformat": 4,
  "nbformat_minor": 0,
  "metadata": {
    "colab": {
      "provenance": []
    },
    "kernelspec": {
      "name": "python3",
      "display_name": "Python 3"
    },
    "language_info": {
      "name": "python"
    }
  },
  "cells": [
    {
      "cell_type": "markdown",
      "source": [
        "### ROUGE"
      ],
      "metadata": {
        "id": "rEYClgV9mwfF"
      }
    },
    {
      "cell_type": "code",
      "source": [
        "!pip install rouge"
      ],
      "metadata": {
        "colab": {
          "base_uri": "https://localhost:8080/"
        },
        "id": "bSHBqOOUmv8K",
        "outputId": "5d9f856d-5830-44e9-b145-0a78e7da8dc6"
      },
      "execution_count": 10,
      "outputs": [
        {
          "output_type": "stream",
          "name": "stdout",
          "text": [
            "Looking in indexes: https://pypi.org/simple, https://us-python.pkg.dev/colab-wheels/public/simple/\n",
            "Collecting rouge\n",
            "  Downloading rouge-1.0.1-py3-none-any.whl (13 kB)\n",
            "Requirement already satisfied: six in /usr/local/lib/python3.10/dist-packages (from rouge) (1.16.0)\n",
            "Installing collected packages: rouge\n",
            "Successfully installed rouge-1.0.1\n"
          ]
        }
      ]
    },
    {
      "cell_type": "code",
      "source": [
        "from rouge import Rouge \n",
        "rouge = Rouge()"
      ],
      "metadata": {
        "id": "GqUJCvnZnC3O"
      },
      "execution_count": 66,
      "outputs": []
    },
    {
      "cell_type": "code",
      "source": [
        "# Reference\n",
        "long = 'It was the best of times, it was the worst of times, it was the age of wisdom, it was the age of foolishness, it was the epoch of belief, it was the epoch of incredulity, it was the season of Light, it was the season of Darkness, it was the spring of hope, it was the winter of despair, we had everything before us, we had nothing before us'\n",
        "long_set = set(long.split())\n",
        "len(long_set)"
      ],
      "metadata": {
        "colab": {
          "base_uri": "https://localhost:8080/"
        },
        "id": "J9sM5XMnnHar",
        "outputId": "96a32bb6-fc9f-4cde-c535-594ba34b9a03"
      },
      "execution_count": 67,
      "outputs": [
        {
          "output_type": "execute_result",
          "data": {
            "text/plain": [
              "28"
            ]
          },
          "metadata": {},
          "execution_count": 67
        }
      ]
    },
    {
      "cell_type": "code",
      "source": [
        "# Short\n",
        "short='It was an age of wisdom, foolishness, belief, Light, Darkness, hope, and despair, with both light and darkness.'\n",
        "short_set = set(short.split())"
      ],
      "metadata": {
        "id": "_o81DpWxnPck"
      },
      "execution_count": 68,
      "outputs": []
    },
    {
      "cell_type": "code",
      "source": [
        "scores0 = rouge.get_scores(short, long)\n",
        "scores0"
      ],
      "metadata": {
        "colab": {
          "base_uri": "https://localhost:8080/"
        },
        "id": "NiWJTFpE3qH1",
        "outputId": "67800911-98ee-47ac-9ec7-c4b01d3bc823"
      },
      "execution_count": 69,
      "outputs": [
        {
          "output_type": "execute_result",
          "data": {
            "text/plain": [
              "[{'rouge-1': {'r': 0.39285714285714285,\n",
              "   'p': 0.6470588235294118,\n",
              "   'f': 0.4888888841876543},\n",
              "  'rouge-2': {'r': 0.06976744186046512,\n",
              "   'p': 0.17647058823529413,\n",
              "   'f': 0.09999999593888906},\n",
              "  'rouge-l': {'r': 0.39285714285714285,\n",
              "   'p': 0.6470588235294118,\n",
              "   'f': 0.4888888841876543}}]"
            ]
          },
          "metadata": {},
          "execution_count": 69
        }
      ]
    },
    {
      "cell_type": "code",
      "source": [
        "overlap = long_set.intersection(short_set)\n",
        "len(overlap)"
      ],
      "metadata": {
        "colab": {
          "base_uri": "https://localhost:8080/"
        },
        "id": "jiWLlOx4nfiN",
        "outputId": "42ce3bbc-9293-46f3-c15e-9d434f23d3e3"
      },
      "execution_count": 70,
      "outputs": [
        {
          "output_type": "execute_result",
          "data": {
            "text/plain": [
              "11"
            ]
          },
          "metadata": {},
          "execution_count": 70
        }
      ]
    },
    {
      "cell_type": "code",
      "source": [
        "print('recall:')\n",
        "recall = len(overlap) / len(long_set)\n",
        "recall"
      ],
      "metadata": {
        "colab": {
          "base_uri": "https://localhost:8080/"
        },
        "id": "VkL3r7wrn23f",
        "outputId": "2a112612-558c-4842-d0be-7683ebc53320"
      },
      "execution_count": 71,
      "outputs": [
        {
          "output_type": "stream",
          "name": "stdout",
          "text": [
            "recall:\n"
          ]
        },
        {
          "output_type": "execute_result",
          "data": {
            "text/plain": [
              "0.39285714285714285"
            ]
          },
          "metadata": {},
          "execution_count": 71
        }
      ]
    },
    {
      "cell_type": "code",
      "source": [
        "print('precision:')\n",
        "precision = len(overlap) / len(short_set)\n",
        "precision"
      ],
      "metadata": {
        "colab": {
          "base_uri": "https://localhost:8080/"
        },
        "id": "7pUCas2xn79_",
        "outputId": "3437206f-6983-4f01-9cd7-04612c819cad"
      },
      "execution_count": 72,
      "outputs": [
        {
          "output_type": "stream",
          "name": "stdout",
          "text": [
            "precision:\n"
          ]
        },
        {
          "output_type": "execute_result",
          "data": {
            "text/plain": [
              "0.6470588235294118"
            ]
          },
          "metadata": {},
          "execution_count": 72
        }
      ]
    },
    {
      "cell_type": "code",
      "source": [
        "f = 2/(1/recall+1/precision)\n",
        "f"
      ],
      "metadata": {
        "colab": {
          "base_uri": "https://localhost:8080/"
        },
        "id": "GvZf7_sCo32l",
        "outputId": "c89e6928-d616-46bf-c072-337a5ca1ceab"
      },
      "execution_count": 73,
      "outputs": [
        {
          "output_type": "execute_result",
          "data": {
            "text/plain": [
              "0.4888888888888889"
            ]
          },
          "metadata": {},
          "execution_count": 73
        }
      ]
    },
    {
      "cell_type": "code",
      "source": [],
      "metadata": {
        "id": "7YfBf_2uy2_A"
      },
      "execution_count": 73,
      "outputs": []
    }
  ]
}