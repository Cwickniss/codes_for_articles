{
 "cells": [
  {
   "cell_type": "markdown",
   "id": "b1ca99fe-b73b-431f-98ac-51d61aa392e4",
   "metadata": {},
   "source": [
    "## Pre-trained models"
   ]
  },
  {
   "cell_type": "markdown",
   "id": "e7f4cdc6-6dfe-4829-9f7a-e7c6a10e9dea",
   "metadata": {},
   "source": [
    "### (1) VGG-16"
   ]
  },
  {
   "cell_type": "code",
   "execution_count": 88,
   "id": "01c38c19-a1cd-4c87-9369-174cb17d4783",
   "metadata": {},
   "outputs": [],
   "source": [
    "import io\n",
    "import torch\n",
    "from PIL import Image\n",
    "import requests\n",
    "from torch.autograd import Variable\n",
    "import torchvision.models as models\n",
    "import torchvision.transforms as transforms\n",
    "\n",
    "# You can get all the pre-trained models here: https://pytorch.org/vision/stable/models.html\n",
    "vgg16 = models.vgg16(pretrained=True)  # This may take a few minutes."
   ]
  },
  {
   "cell_type": "code",
   "execution_count": 97,
   "id": "a2ee6659-bfa0-48d2-a64c-17deed6b905a",
   "metadata": {},
   "outputs": [
    {
     "data": {
      "text/plain": [
       "VGG(\n",
       "  (features): Sequential(\n",
       "    (0): Conv2d(3, 64, kernel_size=(3, 3), stride=(1, 1), padding=(1, 1))\n",
       "    (1): ReLU(inplace=True)\n",
       "    (2): Conv2d(64, 64, kernel_size=(3, 3), stride=(1, 1), padding=(1, 1))\n",
       "    (3): ReLU(inplace=True)\n",
       "    (4): MaxPool2d(kernel_size=2, stride=2, padding=0, dilation=1, ceil_mode=False)\n",
       "    (5): Conv2d(64, 128, kernel_size=(3, 3), stride=(1, 1), padding=(1, 1))\n",
       "    (6): ReLU(inplace=True)\n",
       "    (7): Conv2d(128, 128, kernel_size=(3, 3), stride=(1, 1), padding=(1, 1))\n",
       "    (8): ReLU(inplace=True)\n",
       "    (9): MaxPool2d(kernel_size=2, stride=2, padding=0, dilation=1, ceil_mode=False)\n",
       "    (10): Conv2d(128, 256, kernel_size=(3, 3), stride=(1, 1), padding=(1, 1))\n",
       "    (11): ReLU(inplace=True)\n",
       "    (12): Conv2d(256, 256, kernel_size=(3, 3), stride=(1, 1), padding=(1, 1))\n",
       "    (13): ReLU(inplace=True)\n",
       "    (14): Conv2d(256, 256, kernel_size=(3, 3), stride=(1, 1), padding=(1, 1))\n",
       "    (15): ReLU(inplace=True)\n",
       "    (16): MaxPool2d(kernel_size=2, stride=2, padding=0, dilation=1, ceil_mode=False)\n",
       "    (17): Conv2d(256, 512, kernel_size=(3, 3), stride=(1, 1), padding=(1, 1))\n",
       "    (18): ReLU(inplace=True)\n",
       "    (19): Conv2d(512, 512, kernel_size=(3, 3), stride=(1, 1), padding=(1, 1))\n",
       "    (20): ReLU(inplace=True)\n",
       "    (21): Conv2d(512, 512, kernel_size=(3, 3), stride=(1, 1), padding=(1, 1))\n",
       "    (22): ReLU(inplace=True)\n",
       "    (23): MaxPool2d(kernel_size=2, stride=2, padding=0, dilation=1, ceil_mode=False)\n",
       "    (24): Conv2d(512, 512, kernel_size=(3, 3), stride=(1, 1), padding=(1, 1))\n",
       "    (25): ReLU(inplace=True)\n",
       "    (26): Conv2d(512, 512, kernel_size=(3, 3), stride=(1, 1), padding=(1, 1))\n",
       "    (27): ReLU(inplace=True)\n",
       "    (28): Conv2d(512, 512, kernel_size=(3, 3), stride=(1, 1), padding=(1, 1))\n",
       "    (29): ReLU(inplace=True)\n",
       "    (30): MaxPool2d(kernel_size=2, stride=2, padding=0, dilation=1, ceil_mode=False)\n",
       "  )\n",
       "  (avgpool): AdaptiveAvgPool2d(output_size=(7, 7))\n",
       "  (classifier): Sequential(\n",
       "    (0): Linear(in_features=25088, out_features=4096, bias=True)\n",
       "    (1): ReLU(inplace=True)\n",
       "    (2): Dropout(p=0.5, inplace=False)\n",
       "    (3): Linear(in_features=4096, out_features=4096, bias=True)\n",
       "    (4): ReLU(inplace=True)\n",
       "    (5): Dropout(p=0.5, inplace=False)\n",
       "    (6): Linear(in_features=4096, out_features=1000, bias=True)\n",
       "  )\n",
       ")"
      ]
     },
     "execution_count": 97,
     "metadata": {},
     "output_type": "execute_result"
    }
   ],
   "source": [
    "vgg16"
   ]
  },
  {
   "cell_type": "code",
   "execution_count": 92,
   "id": "f03b113c-ae31-4deb-8df9-0f6bf7c68aeb",
   "metadata": {},
   "outputs": [],
   "source": [
    "# Read the categories\n",
    "# Download ImageNet labels\n",
    "# https://raw.githubusercontent.com/pytorch/hub/master/imagenet_classes.txt\n",
    "\n",
    "with open(\"/Downloads/imagenet_classes.txt\", \"r\") as f:\n",
    "    labels = [s.strip() for s in f.readlines()]"
   ]
  },
  {
   "cell_type": "code",
   "execution_count": 98,
   "id": "ca28c91e-c771-40b0-9e9b-9377b01b8b04",
   "metadata": {},
   "outputs": [
    {
     "name": "stdout",
     "output_type": "stream",
     "text": [
      "(1600, 1071)\n"
     ]
    }
   ],
   "source": [
    "import urllib\n",
    "#url, filename = (\"https://github.com/dataman-git/codes_for_articles/blob/master/pic/tesla.png?raw=true\", \"tesla.jpg\")\n",
    "url, filename = (\"https://cff2.earth.com/uploads/2022/01/06080341/Goldfish.jpg?raw=true\", \"goldfish.jpg\")\n",
    "url, filename = (\"https://cdn.britannica.com/92/152292-050-EAF28A45/Bald-eagle.jpg?raw=true\", \"eagle.jpg\")\n",
    "\n",
    "try: urllib.URLopener().retrieve(url, filename)\n",
    "except: urllib.request.urlretrieve(url, filename)\n",
    "\n",
    "# sample execution (requires torchvision)\n",
    "from PIL import Image\n",
    "from torchvision import transforms\n",
    "input_image = Image.open(filename).convert('RGB')\n",
    "print(input_image.size)\n",
    "input_image.show()\n",
    "\n",
    "#pix = np.array(im.getdata()).reshape(im.size[0], im.size[1], 3)\n",
    "#pix[1:10]"
   ]
  },
  {
   "cell_type": "code",
   "execution_count": 94,
   "id": "4dddc05b-3dc3-4fc3-9541-13c847c777ff",
   "metadata": {},
   "outputs": [],
   "source": [
    "preprocess = transforms.Compose([\n",
    "    transforms.Resize(256),\n",
    "    transforms.CenterCrop(224),\n",
    "    transforms.ToTensor(),\n",
    "    transforms.Normalize(mean=[0.485, 0.456, 0.406], std=[0.229, 0.224, 0.225]),\n",
    "])\n",
    "input_tensor = preprocess(input_image) \n",
    "input_tensor.shape # = torch.Size([3, 224, 224])\n",
    "input_batch = input_tensor.unsqueeze(0) # create a mini-batch as expected by the model\n",
    "input_tensor.shape # = torch.Size([1, 3, 224, 224])\n",
    "\n",
    "# move the input and model to GPU for speed if available\n",
    "if torch.cuda.is_available():\n",
    "    input_batch = input_batch.to('cuda')\n",
    "    model.to('cuda')"
   ]
  },
  {
   "cell_type": "code",
   "execution_count": 95,
   "id": "c714e0b1-f505-4fcb-9ebc-b26400569d35",
   "metadata": {},
   "outputs": [],
   "source": [
    "output = vgg16(input_batch)  # Returns a Tensor of shape (batch, num class labels)\n",
    "#prediction = prediction.data.numpy().argmax()  # Our prediction will be the index of the class label with the largest value.\n",
    "#prediction\n",
    "\n",
    "# Tensor of shape 1000, with confidence scores over Imagenet's 1000 classes\n",
    "#print(output[0])\n",
    "# The output has unnormalized scores. To get probabilities, you can run a softmax on it.\n",
    "probabilities = torch.nn.functional.softmax(output[0], dim=0)\n",
    "#print(probabilities)"
   ]
  },
  {
   "cell_type": "code",
   "execution_count": 96,
   "id": "c6c8676b-219d-4c8a-afdf-82ef910d8e15",
   "metadata": {},
   "outputs": [
    {
     "name": "stdout",
     "output_type": "stream",
     "text": [
      "bald eagle 0.9969350099563599\n",
      "vulture 0.0015524202026426792\n",
      "kite 0.001502618077211082\n",
      "albatross 3.8109526485641254e-06\n",
      "hornbill 1.904312739497982e-06\n"
     ]
    }
   ],
   "source": [
    "# Show top categories per image\n",
    "top5_prob, top5_catid = torch.topk(probabilities, 5)\n",
    "for i in range(top5_prob.size(0)):\n",
    "    print(labels[top5_catid[i]], top5_prob[i].item())"
   ]
  },
  {
   "cell_type": "code",
   "execution_count": null,
   "id": "b7913a9c-5789-4162-9380-977fd928fb03",
   "metadata": {},
   "outputs": [],
   "source": []
  }
 ],
 "metadata": {
  "kernelspec": {
   "display_name": "Python 3",
   "language": "python",
   "name": "python3"
  },
  "language_info": {
   "codemirror_mode": {
    "name": "ipython",
    "version": 3
   },
   "file_extension": ".py",
   "mimetype": "text/x-python",
   "name": "python",
   "nbconvert_exporter": "python",
   "pygments_lexer": "ipython3",
   "version": "3.6.13"
  }
 },
 "nbformat": 4,
 "nbformat_minor": 5
}
